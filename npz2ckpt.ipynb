{
 "cells": [
  {
   "cell_type": "code",
   "execution_count": 1,
   "id": "1ad93161",
   "metadata": {},
   "outputs": [],
   "source": [
    "from mindspore import Tensor, dtype as mstype, Parameter, save_checkpoint\n",
    "from timm.models import create_model\n",
    "checkpoint_path = './L_16-i21k-300ep-lr_0.001-aug_medium1-wd_0.1-do_0.1-sd_0.1--imagenet2012-steps_20k-lr_0.01-res_384.npz'"
   ]
  },
  {
   "cell_type": "code",
   "execution_count": null,
   "id": "7a92cdf4",
   "metadata": {
    "pycharm": {
     "is_executing": true
    }
   },
   "outputs": [],
   "source": [
    "prefix = \"model.encoder.\"\n",
    "model = create_model(\"vit_large_patch16_384\", img_size=768, pretrained=True, checkpoint_path=checkpoint_path)"
   ]
  },
  {
   "cell_type": "code",
   "execution_count": null,
   "id": "9e4a0b7e",
   "metadata": {},
   "outputs": [],
   "source": [
    "state_dict = model.state_dict()\n",
    "\n",
    "weights = []\n",
    "prefix = \"model.encoder.\"\n",
    "for key in state_dict:\n",
    "    name2weight = {}\n",
    "    if \"bn\" in key or \"norm\" in key or \"ln\" in key:\n",
    "        if \"weight\" in key:\n",
    "            name2weight[\"name\"] = prefix + key.replace(\".weight\", \".gamma\")\n",
    "        elif \"bias\" in key:\n",
    "            name2weight[\"name\"] = prefix + key.replace(\".bias\", \".beta\")\n",
    "        elif \"mean\" in key:\n",
    "            name2weight[\"name\"] = prefix + key.replace(\"running_mean\", \"moving_mean\")\n",
    "        elif \"var\" in key:\n",
    "            name2weight[\"name\"] = prefix + key.replace(\"running_var\", \"moving_variance\")\n",
    "        name2weight[\"data\"] = Parameter(Tensor(state_dict[key].numpy(), mstype.float32),requires_grad=True)\n",
    "        weights.append(name2weight)\n",
    "    else:\n",
    "        dd = mstype.float32\n",
    "        weight = Parameter(Tensor(state_dict[key].numpy(), dd),requires_grad=True)\n",
    "        key = prefix + key\n",
    "        weights.append({\"name\": key, \"data\": weight})\n",
    "    print(weights[-1][\"name\"], weights[-1][\"data\"].shape)"
   ]
  },
  {
   "cell_type": "code",
   "execution_count": null,
   "id": "3cc293a1",
   "metadata": {},
   "outputs": [],
   "source": [
    "save_checkpoint(weights, \"vit_large_patch16_384.ckpt\")"
   ]
  }
 ],
 "metadata": {
  "kernelspec": {
   "display_name": "Python 3.9.12 ('base')",
   "language": "python",
   "name": "python3"
  },
  "language_info": {
   "codemirror_mode": {
    "name": "ipython",
    "version": 3
   },
   "file_extension": ".py",
   "mimetype": "text/x-python",
   "name": "python",
   "nbconvert_exporter": "python",
   "pygments_lexer": "ipython3",
   "version": "3.9.12"
  },
  "vscode": {
   "interpreter": {
    "hash": "22834332dee9b5d2b93c4292ec84ca2350d22e3c205bb95a70e35f0020ab12e8"
   }
  }
 },
 "nbformat": 4,
 "nbformat_minor": 5
}
